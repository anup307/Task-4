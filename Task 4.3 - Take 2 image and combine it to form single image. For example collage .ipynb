{
 "cells": [
  {
   "cell_type": "code",
   "execution_count": null,
   "id": "c5ba6619",
   "metadata": {},
   "outputs": [],
   "source": [
    "# Task 4.3 : Take 2 image and combine it to form single image. For example collage \n",
    "\n",
    "import cv2\n",
    "import numpy as np"
   ]
  },
  {
   "cell_type": "code",
   "execution_count": null,
   "id": "2f083bc4",
   "metadata": {},
   "outputs": [],
   "source": [
    "#First Image\n",
    "\n",
    "img1 = cv2.imread(\"pubg1.jpg\")\n",
    "cv2.imshow(\"Image 1\", img1)\n",
    "cv2.waitKey()\n",
    "cv2.destroyAllWindows()"
   ]
  },
  {
   "cell_type": "code",
   "execution_count": null,
   "id": "ce9e10f1",
   "metadata": {},
   "outputs": [],
   "source": [
    "img1.shape"
   ]
  },
  {
   "cell_type": "code",
   "execution_count": null,
   "id": "a59feb84",
   "metadata": {},
   "outputs": [],
   "source": [
    "# Cropping First Image\n",
    "\n",
    "img1 = img1[:774, :576]\n",
    "cv2.imshow(\"Image 1\", img1)\n",
    "cv2.waitKey()\n",
    "cv2.destroyAllWindows()"
   ]
  },
  {
   "cell_type": "code",
   "execution_count": null,
   "id": "aed9d694",
   "metadata": {},
   "outputs": [],
   "source": [
    "img1.shape"
   ]
  },
  {
   "cell_type": "code",
   "execution_count": null,
   "id": "6278fc1b",
   "metadata": {},
   "outputs": [],
   "source": [
    "# Second Image\n",
    "\n",
    "img2 = cv2.imread(\"pubg2.jpeg\")\n",
    "cv2.imshow(\"Image 2\", img2)\n",
    "cv2.waitKey()\n",
    "cv2.destroyAllWindows()"
   ]
  },
  {
   "cell_type": "code",
   "execution_count": null,
   "id": "37c4a40f",
   "metadata": {},
   "outputs": [],
   "source": [
    "img2.shape"
   ]
  },
  {
   "cell_type": "code",
   "execution_count": null,
   "id": "48aa28b1",
   "metadata": {},
   "outputs": [],
   "source": [
    "# Cropping Second Image\n",
    "\n",
    "img2 = img2[250:1024, :576]\n",
    "cv2.imshow(\"Image 2\", img2)\n",
    "cv2.waitKey()\n",
    "cv2.destroyAllWindows()"
   ]
  },
  {
   "cell_type": "code",
   "execution_count": null,
   "id": "0265c686",
   "metadata": {},
   "outputs": [],
   "source": [
    "img2.shape"
   ]
  },
  {
   "cell_type": "code",
   "execution_count": null,
   "id": "27d20311",
   "metadata": {},
   "outputs": [],
   "source": [
    "img2 = img2[:774, :480]"
   ]
  },
  {
   "cell_type": "code",
   "execution_count": null,
   "id": "0ed2bb54",
   "metadata": {},
   "outputs": [],
   "source": [
    "Final_Img = np.hstack((img1,img2))\n",
    "cv2.imshow(\"Final_Image\", Final_Img)\n",
    "cv2.waitKey()\n",
    "cv2.destroyAllWindows()"
   ]
  },
  {
   "cell_type": "code",
   "execution_count": null,
   "id": "0eb3e2fc",
   "metadata": {},
   "outputs": [],
   "source": [
    "ver = np.vstack((img1,img2))\n",
    "ver = cv2.resize(ver, (780, 780))\n",
    "cv2.imshow(\"vFinal_Image\", ver)\n",
    "cv2.waitKey()\n",
    "cv2.destroyAllWindows()"
   ]
  },
  {
   "cell_type": "code",
   "execution_count": null,
   "id": "40ec1c5c",
   "metadata": {},
   "outputs": [],
   "source": []
  }
 ],
 "metadata": {
  "kernelspec": {
   "display_name": "Python 3",
   "language": "python",
   "name": "python3"
  },
  "language_info": {
   "codemirror_mode": {
    "name": "ipython",
    "version": 3
   },
   "file_extension": ".py",
   "mimetype": "text/x-python",
   "name": "python",
   "nbconvert_exporter": "python",
   "pygments_lexer": "ipython3",
   "version": "3.8.8"
  }
 },
 "nbformat": 4,
 "nbformat_minor": 5
}
