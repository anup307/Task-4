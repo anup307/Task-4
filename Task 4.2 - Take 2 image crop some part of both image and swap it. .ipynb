{
 "cells": [
  {
   "cell_type": "code",
   "execution_count": null,
   "id": "7680acff",
   "metadata": {},
   "outputs": [],
   "source": [
    "#Task 4.2: Take 2 image crop some part of both image and swap it. \n",
    "\n",
    "import cv2\n",
    "import numpy as np"
   ]
  },
  {
   "cell_type": "code",
   "execution_count": null,
   "id": "cb608ebb",
   "metadata": {},
   "outputs": [],
   "source": [
    "# displaying first image\n",
    "img1 = cv2.imread(\"KB.jfif\")\n",
    "img1 = cv2.resize(img1, (720,720))\n",
    "cv2.imshow(\"Image1\", img1)\n",
    "cv2.waitKey(0)\n",
    "cv2.destroyAllWindows()"
   ]
  },
  {
   "cell_type": "code",
   "execution_count": null,
   "id": "ddb8b87c",
   "metadata": {},
   "outputs": [],
   "source": [
    "#cropping first image\n",
    "img1 = cv2.imread(\"KB.jfif\")\n",
    "img1 = cv2.resize(img1, (720,720))\n",
    "crop1 = img1[50:600, 60:300]\n",
    "cv2.imshow(\"Image1\", crop1)\n",
    "cv2.waitKey(0)\n",
    "cv2.destroyAllWindows()"
   ]
  },
  {
   "cell_type": "code",
   "execution_count": null,
   "id": "fbe2350f",
   "metadata": {},
   "outputs": [],
   "source": [
    "# displaying second image\n",
    "img2 = cv2.imread(\"kohli1.jfif\")\n",
    "img2 = cv2.resize(img2, (720,720))\n",
    "cv2.imshow(\"Image2\", img2)\n",
    "cv2.waitKey(0)\n",
    "cv2.destroyAllWindows()"
   ]
  },
  {
   "cell_type": "code",
   "execution_count": null,
   "id": "6332fc1e",
   "metadata": {},
   "outputs": [],
   "source": [
    "#cropping second image\n",
    "img2 = cv2.imread(\"kohli1.jfif\")\n",
    "img2 = cv2.resize(img2, (720,720))\n",
    "crop2 = img2[10:500, 380:500]\n",
    "cv2.imshow(\"Image2\", crop2)\n",
    "cv2.waitKey(0)\n",
    "cv2.destroyAllWindows()"
   ]
  },
  {
   "cell_type": "code",
   "execution_count": null,
   "id": "4696bdab",
   "metadata": {},
   "outputs": [],
   "source": [
    "# Swapping the cropped parts of images\n",
    "crop1 = np.copy(crop1)\n",
    "crop2 = np.copy(crop2)\n",
    "img1[10:500, 380:500]=crop2\n",
    "img2[50:600, 60:300]=crop1"
   ]
  },
  {
   "cell_type": "code",
   "execution_count": null,
   "id": "2258b182",
   "metadata": {},
   "outputs": [],
   "source": [
    "#display image1\n",
    "cv2.imshow(\"Image1\", img1)\n",
    "cv2.waitKey(0)\n",
    "cv2.destroyAllWindows()"
   ]
  },
  {
   "cell_type": "code",
   "execution_count": null,
   "id": "257486e7",
   "metadata": {},
   "outputs": [],
   "source": [
    "#display image2\n",
    "cv2.imshow(\"Image2\", img2)\n",
    "cv2.waitKey(0)\n",
    "cv2.destroyAllWindows()"
   ]
  },
  {
   "cell_type": "code",
   "execution_count": null,
   "id": "3ff7c317",
   "metadata": {},
   "outputs": [],
   "source": []
  }
 ],
 "metadata": {
  "kernelspec": {
   "display_name": "Python 3",
   "language": "python",
   "name": "python3"
  },
  "language_info": {
   "codemirror_mode": {
    "name": "ipython",
    "version": 3
   },
   "file_extension": ".py",
   "mimetype": "text/x-python",
   "name": "python",
   "nbconvert_exporter": "python",
   "pygments_lexer": "ipython3",
   "version": "3.8.8"
  }
 },
 "nbformat": 4,
 "nbformat_minor": 5
}
